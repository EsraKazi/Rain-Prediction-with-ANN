{
 "cells": [
  {
   "cell_type": "code",
   "execution_count": 1,
   "id": "06624524",
   "metadata": {},
   "outputs": [],
   "source": [
    "import matplotlib.pyplot as plt\n",
    "import seaborn as sns\n",
    "\n",
    "import visualkeras as vs\n",
    "\n",
    "import numpy as np\n",
    "import pandas as pd\n",
    "from tensorflow import keras\n",
    "\n",
    "import warnings\n",
    "warnings.filterwarnings('ignore')\n",
    "\n",
    "from sklearn.impute import SimpleImputer\n",
    "from sklearn.preprocessing import LabelEncoder, StandardScaler\n",
    "from sklearn.model_selection import train_test_split\n",
    "\n",
    "from keras.utils import to_categorical\n",
    "from keras.models import Sequential\n",
    "from keras.layers import Dense, Flatten, Dropout\n",
    "from keras.callbacks import EarlyStopping\n",
    "from keras.optimizers import Adam"
   ]
  },
  {
   "cell_type": "code",
   "execution_count": 2,
   "id": "f158cf45",
   "metadata": {},
   "outputs": [],
   "source": [
    "df = pd.read_csv(\"C:/Users/Esrak/Desktop/CSE422 ANN/Rain Prediction/weatherAUS.csv\")"
   ]
  },
  {
   "cell_type": "code",
   "execution_count": 3,
   "id": "f190b5e2",
   "metadata": {
    "scrolled": true
   },
   "outputs": [
    {
     "data": {
      "text/html": [
       "<div>\n",
       "<style scoped>\n",
       "    .dataframe tbody tr th:only-of-type {\n",
       "        vertical-align: middle;\n",
       "    }\n",
       "\n",
       "    .dataframe tbody tr th {\n",
       "        vertical-align: top;\n",
       "    }\n",
       "\n",
       "    .dataframe thead th {\n",
       "        text-align: right;\n",
       "    }\n",
       "</style>\n",
       "<table border=\"1\" class=\"dataframe\">\n",
       "  <thead>\n",
       "    <tr style=\"text-align: right;\">\n",
       "      <th></th>\n",
       "      <th>Date</th>\n",
       "      <th>Location</th>\n",
       "      <th>MinTemp</th>\n",
       "      <th>MaxTemp</th>\n",
       "      <th>Rainfall</th>\n",
       "      <th>Evaporation</th>\n",
       "      <th>Sunshine</th>\n",
       "      <th>WindGustDir</th>\n",
       "      <th>WindGustSpeed</th>\n",
       "      <th>WindDir9am</th>\n",
       "      <th>...</th>\n",
       "      <th>Humidity9am</th>\n",
       "      <th>Humidity3pm</th>\n",
       "      <th>Pressure9am</th>\n",
       "      <th>Pressure3pm</th>\n",
       "      <th>Cloud9am</th>\n",
       "      <th>Cloud3pm</th>\n",
       "      <th>Temp9am</th>\n",
       "      <th>Temp3pm</th>\n",
       "      <th>RainToday</th>\n",
       "      <th>RainTomorrow</th>\n",
       "    </tr>\n",
       "  </thead>\n",
       "  <tbody>\n",
       "    <tr>\n",
       "      <th>0</th>\n",
       "      <td>2008-12-01</td>\n",
       "      <td>Albury</td>\n",
       "      <td>13.4</td>\n",
       "      <td>22.9</td>\n",
       "      <td>0.6</td>\n",
       "      <td>NaN</td>\n",
       "      <td>NaN</td>\n",
       "      <td>W</td>\n",
       "      <td>44.0</td>\n",
       "      <td>W</td>\n",
       "      <td>...</td>\n",
       "      <td>71.0</td>\n",
       "      <td>22.0</td>\n",
       "      <td>1007.7</td>\n",
       "      <td>1007.1</td>\n",
       "      <td>8.0</td>\n",
       "      <td>NaN</td>\n",
       "      <td>16.9</td>\n",
       "      <td>21.8</td>\n",
       "      <td>No</td>\n",
       "      <td>No</td>\n",
       "    </tr>\n",
       "    <tr>\n",
       "      <th>1</th>\n",
       "      <td>2008-12-02</td>\n",
       "      <td>Albury</td>\n",
       "      <td>7.4</td>\n",
       "      <td>25.1</td>\n",
       "      <td>0.0</td>\n",
       "      <td>NaN</td>\n",
       "      <td>NaN</td>\n",
       "      <td>WNW</td>\n",
       "      <td>44.0</td>\n",
       "      <td>NNW</td>\n",
       "      <td>...</td>\n",
       "      <td>44.0</td>\n",
       "      <td>25.0</td>\n",
       "      <td>1010.6</td>\n",
       "      <td>1007.8</td>\n",
       "      <td>NaN</td>\n",
       "      <td>NaN</td>\n",
       "      <td>17.2</td>\n",
       "      <td>24.3</td>\n",
       "      <td>No</td>\n",
       "      <td>No</td>\n",
       "    </tr>\n",
       "    <tr>\n",
       "      <th>2</th>\n",
       "      <td>2008-12-03</td>\n",
       "      <td>Albury</td>\n",
       "      <td>12.9</td>\n",
       "      <td>25.7</td>\n",
       "      <td>0.0</td>\n",
       "      <td>NaN</td>\n",
       "      <td>NaN</td>\n",
       "      <td>WSW</td>\n",
       "      <td>46.0</td>\n",
       "      <td>W</td>\n",
       "      <td>...</td>\n",
       "      <td>38.0</td>\n",
       "      <td>30.0</td>\n",
       "      <td>1007.6</td>\n",
       "      <td>1008.7</td>\n",
       "      <td>NaN</td>\n",
       "      <td>2.0</td>\n",
       "      <td>21.0</td>\n",
       "      <td>23.2</td>\n",
       "      <td>No</td>\n",
       "      <td>No</td>\n",
       "    </tr>\n",
       "    <tr>\n",
       "      <th>3</th>\n",
       "      <td>2008-12-04</td>\n",
       "      <td>Albury</td>\n",
       "      <td>9.2</td>\n",
       "      <td>28.0</td>\n",
       "      <td>0.0</td>\n",
       "      <td>NaN</td>\n",
       "      <td>NaN</td>\n",
       "      <td>NE</td>\n",
       "      <td>24.0</td>\n",
       "      <td>SE</td>\n",
       "      <td>...</td>\n",
       "      <td>45.0</td>\n",
       "      <td>16.0</td>\n",
       "      <td>1017.6</td>\n",
       "      <td>1012.8</td>\n",
       "      <td>NaN</td>\n",
       "      <td>NaN</td>\n",
       "      <td>18.1</td>\n",
       "      <td>26.5</td>\n",
       "      <td>No</td>\n",
       "      <td>No</td>\n",
       "    </tr>\n",
       "    <tr>\n",
       "      <th>4</th>\n",
       "      <td>2008-12-05</td>\n",
       "      <td>Albury</td>\n",
       "      <td>17.5</td>\n",
       "      <td>32.3</td>\n",
       "      <td>1.0</td>\n",
       "      <td>NaN</td>\n",
       "      <td>NaN</td>\n",
       "      <td>W</td>\n",
       "      <td>41.0</td>\n",
       "      <td>ENE</td>\n",
       "      <td>...</td>\n",
       "      <td>82.0</td>\n",
       "      <td>33.0</td>\n",
       "      <td>1010.8</td>\n",
       "      <td>1006.0</td>\n",
       "      <td>7.0</td>\n",
       "      <td>8.0</td>\n",
       "      <td>17.8</td>\n",
       "      <td>29.7</td>\n",
       "      <td>No</td>\n",
       "      <td>No</td>\n",
       "    </tr>\n",
       "  </tbody>\n",
       "</table>\n",
       "<p>5 rows × 23 columns</p>\n",
       "</div>"
      ],
      "text/plain": [
       "         Date Location  MinTemp  MaxTemp  Rainfall  Evaporation  Sunshine  \\\n",
       "0  2008-12-01   Albury     13.4     22.9       0.6          NaN       NaN   \n",
       "1  2008-12-02   Albury      7.4     25.1       0.0          NaN       NaN   \n",
       "2  2008-12-03   Albury     12.9     25.7       0.0          NaN       NaN   \n",
       "3  2008-12-04   Albury      9.2     28.0       0.0          NaN       NaN   \n",
       "4  2008-12-05   Albury     17.5     32.3       1.0          NaN       NaN   \n",
       "\n",
       "  WindGustDir  WindGustSpeed WindDir9am  ... Humidity9am  Humidity3pm  \\\n",
       "0           W           44.0          W  ...        71.0         22.0   \n",
       "1         WNW           44.0        NNW  ...        44.0         25.0   \n",
       "2         WSW           46.0          W  ...        38.0         30.0   \n",
       "3          NE           24.0         SE  ...        45.0         16.0   \n",
       "4           W           41.0        ENE  ...        82.0         33.0   \n",
       "\n",
       "   Pressure9am  Pressure3pm  Cloud9am  Cloud3pm  Temp9am  Temp3pm  RainToday  \\\n",
       "0       1007.7       1007.1       8.0       NaN     16.9     21.8         No   \n",
       "1       1010.6       1007.8       NaN       NaN     17.2     24.3         No   \n",
       "2       1007.6       1008.7       NaN       2.0     21.0     23.2         No   \n",
       "3       1017.6       1012.8       NaN       NaN     18.1     26.5         No   \n",
       "4       1010.8       1006.0       7.0       8.0     17.8     29.7         No   \n",
       "\n",
       "   RainTomorrow  \n",
       "0            No  \n",
       "1            No  \n",
       "2            No  \n",
       "3            No  \n",
       "4            No  \n",
       "\n",
       "[5 rows x 23 columns]"
      ]
     },
     "execution_count": 3,
     "metadata": {},
     "output_type": "execute_result"
    }
   ],
   "source": [
    "df.head()"
   ]
  },
  {
   "cell_type": "code",
   "execution_count": 4,
   "id": "5898e971",
   "metadata": {},
   "outputs": [],
   "source": [
    "df['Date']=pd.to_datetime(df['Date'])\n",
    "df['Month']=df['Date'].dt.month\n",
    "df['Day']=df['Date'].dt.day\n",
    "df['Year']=df['Date'].dt.year"
   ]
  },
  {
   "cell_type": "code",
   "execution_count": 5,
   "id": "1a242288",
   "metadata": {
    "scrolled": true
   },
   "outputs": [
    {
     "ename": "KeyboardInterrupt",
     "evalue": "Interrupted by user",
     "output_type": "error",
     "traceback": [
      "\u001b[1;31m---------------------------------------------------------------------------\u001b[0m",
      "\u001b[1;31mKeyboardInterrupt\u001b[0m                         Traceback (most recent call last)",
      "\u001b[1;32m~\\AppData\\Local\\Temp/ipykernel_31592/3965021179.py\u001b[0m in \u001b[0;36m<module>\u001b[1;34m\u001b[0m\n\u001b[1;32m----> 1\u001b[1;33m \u001b[0mx\u001b[0m \u001b[1;33m=\u001b[0m \u001b[0minput\u001b[0m\u001b[1;33m(\u001b[0m\u001b[1;34m\"Please enter the city:\"\u001b[0m\u001b[1;33m)\u001b[0m\u001b[1;33m\u001b[0m\u001b[1;33m\u001b[0m\u001b[0m\n\u001b[0m\u001b[0;32m      2\u001b[0m \u001b[0mnews\u001b[0m\u001b[1;33m=\u001b[0m \u001b[0mdf\u001b[0m\u001b[1;33m[\u001b[0m\u001b[0mdf\u001b[0m\u001b[1;33m[\u001b[0m\u001b[1;34m\"Location\"\u001b[0m\u001b[1;33m]\u001b[0m \u001b[1;33m==\u001b[0m \u001b[0mx\u001b[0m\u001b[1;33m]\u001b[0m\u001b[1;33m\u001b[0m\u001b[1;33m\u001b[0m\u001b[0m\n",
      "\u001b[1;32m~\\anaconda3\\lib\\site-packages\\ipykernel\\kernelbase.py\u001b[0m in \u001b[0;36mraw_input\u001b[1;34m(self, prompt)\u001b[0m\n\u001b[0;32m   1004\u001b[0m                 \u001b[1;34m\"raw_input was called, but this frontend does not support input requests.\"\u001b[0m\u001b[1;33m\u001b[0m\u001b[1;33m\u001b[0m\u001b[0m\n\u001b[0;32m   1005\u001b[0m             )\n\u001b[1;32m-> 1006\u001b[1;33m         return self._input_request(\n\u001b[0m\u001b[0;32m   1007\u001b[0m             \u001b[0mstr\u001b[0m\u001b[1;33m(\u001b[0m\u001b[0mprompt\u001b[0m\u001b[1;33m)\u001b[0m\u001b[1;33m,\u001b[0m\u001b[1;33m\u001b[0m\u001b[1;33m\u001b[0m\u001b[0m\n\u001b[0;32m   1008\u001b[0m             \u001b[0mself\u001b[0m\u001b[1;33m.\u001b[0m\u001b[0m_parent_ident\u001b[0m\u001b[1;33m[\u001b[0m\u001b[1;34m\"shell\"\u001b[0m\u001b[1;33m]\u001b[0m\u001b[1;33m,\u001b[0m\u001b[1;33m\u001b[0m\u001b[1;33m\u001b[0m\u001b[0m\n",
      "\u001b[1;32m~\\anaconda3\\lib\\site-packages\\ipykernel\\kernelbase.py\u001b[0m in \u001b[0;36m_input_request\u001b[1;34m(self, prompt, ident, parent, password)\u001b[0m\n\u001b[0;32m   1049\u001b[0m             \u001b[1;32mexcept\u001b[0m \u001b[0mKeyboardInterrupt\u001b[0m\u001b[1;33m:\u001b[0m\u001b[1;33m\u001b[0m\u001b[1;33m\u001b[0m\u001b[0m\n\u001b[0;32m   1050\u001b[0m                 \u001b[1;31m# re-raise KeyboardInterrupt, to truncate traceback\u001b[0m\u001b[1;33m\u001b[0m\u001b[1;33m\u001b[0m\u001b[0m\n\u001b[1;32m-> 1051\u001b[1;33m                 \u001b[1;32mraise\u001b[0m \u001b[0mKeyboardInterrupt\u001b[0m\u001b[1;33m(\u001b[0m\u001b[1;34m\"Interrupted by user\"\u001b[0m\u001b[1;33m)\u001b[0m \u001b[1;32mfrom\u001b[0m \u001b[1;32mNone\u001b[0m\u001b[1;33m\u001b[0m\u001b[1;33m\u001b[0m\u001b[0m\n\u001b[0m\u001b[0;32m   1052\u001b[0m             \u001b[1;32mexcept\u001b[0m \u001b[0mException\u001b[0m\u001b[1;33m:\u001b[0m\u001b[1;33m\u001b[0m\u001b[1;33m\u001b[0m\u001b[0m\n\u001b[0;32m   1053\u001b[0m                 \u001b[0mself\u001b[0m\u001b[1;33m.\u001b[0m\u001b[0mlog\u001b[0m\u001b[1;33m.\u001b[0m\u001b[0mwarning\u001b[0m\u001b[1;33m(\u001b[0m\u001b[1;34m\"Invalid Message:\"\u001b[0m\u001b[1;33m,\u001b[0m \u001b[0mexc_info\u001b[0m\u001b[1;33m=\u001b[0m\u001b[1;32mTrue\u001b[0m\u001b[1;33m)\u001b[0m\u001b[1;33m\u001b[0m\u001b[1;33m\u001b[0m\u001b[0m\n",
      "\u001b[1;31mKeyboardInterrupt\u001b[0m: Interrupted by user"
     ]
    }
   ],
   "source": [
    "x = input(\"Please enter the city:\")\n",
    "news= df[df[\"Location\"] == x]"
   ]
  },
  {
   "cell_type": "code",
   "execution_count": null,
   "id": "a687d71e",
   "metadata": {},
   "outputs": [],
   "source": [
    "news"
   ]
  },
  {
   "cell_type": "code",
   "execution_count": null,
   "id": "191aa009",
   "metadata": {},
   "outputs": [],
   "source": [
    "y = int(input(\"Please enter the day:\"))\n",
    "newsy= news[news[\"Day\"] == y]"
   ]
  },
  {
   "cell_type": "code",
   "execution_count": null,
   "id": "47313b6b",
   "metadata": {},
   "outputs": [],
   "source": [
    "newsy"
   ]
  },
  {
   "cell_type": "code",
   "execution_count": null,
   "id": "738ac0f6",
   "metadata": {},
   "outputs": [],
   "source": [
    "z = int(input(\"Please enter the month:\"))\n",
    "data= newsy[newsy[\"Month\"] == z]"
   ]
  },
  {
   "cell_type": "code",
   "execution_count": 6,
   "id": "a641ead0",
   "metadata": {},
   "outputs": [],
   "source": [
    "data = df"
   ]
  },
  {
   "cell_type": "code",
   "execution_count": 7,
   "id": "60b748de",
   "metadata": {},
   "outputs": [],
   "source": [
    "x = data.iloc[:,[1,2,3,4,5,6,7,8,9,10,11,12,13,14,15,16,17,18,19,20,23,24,25]].values\n",
    "y = data.iloc[:,[21,22]].values"
   ]
  },
  {
   "cell_type": "code",
   "execution_count": 8,
   "id": "53637b93",
   "metadata": {
    "scrolled": true
   },
   "outputs": [
    {
     "data": {
      "text/plain": [
       "array([['No', 'No'],\n",
       "       ['No', 'No'],\n",
       "       ['No', 'No'],\n",
       "       ...,\n",
       "       ['No', 'No'],\n",
       "       ['No', 'No'],\n",
       "       ['No', nan]], dtype=object)"
      ]
     },
     "execution_count": 8,
     "metadata": {},
     "output_type": "execute_result"
    }
   ],
   "source": [
    "y"
   ]
  },
  {
   "cell_type": "markdown",
   "id": "732fb7c3",
   "metadata": {},
   "source": [
    "# Cleaning missing data"
   ]
  },
  {
   "cell_type": "code",
   "execution_count": 11,
   "id": "f4cc8738",
   "metadata": {},
   "outputs": [],
   "source": [
    "imputer = SimpleImputer(missing_values = np.nan,strategy = 'most_frequent')"
   ]
  },
  {
   "cell_type": "code",
   "execution_count": 12,
   "id": "7914d5e5",
   "metadata": {},
   "outputs": [],
   "source": [
    "x = imputer.fit_transform(x)\n",
    "y = imputer.fit_transform(y)"
   ]
  },
  {
   "cell_type": "code",
   "execution_count": 13,
   "id": "7b2a2956",
   "metadata": {},
   "outputs": [
    {
     "data": {
      "text/plain": [
       "array([['No', 'No'],\n",
       "       ['No', 'No'],\n",
       "       ['No', 'No'],\n",
       "       ...,\n",
       "       ['No', 'No'],\n",
       "       ['No', 'No'],\n",
       "       ['No', 'No']], dtype=object)"
      ]
     },
     "execution_count": 13,
     "metadata": {},
     "output_type": "execute_result"
    }
   ],
   "source": [
    "y"
   ]
  },
  {
   "cell_type": "markdown",
   "id": "3262fa69",
   "metadata": {},
   "source": [
    "# Encoding Dataset\n",
    "Converting string data to numerical values so I can process the data"
   ]
  },
  {
   "cell_type": "code",
   "execution_count": 14,
   "id": "6d65ff39",
   "metadata": {},
   "outputs": [],
   "source": [
    "col_obj = data.select_dtypes(include = 'object').columns"
   ]
  },
  {
   "cell_type": "code",
   "execution_count": 15,
   "id": "f65f82d1",
   "metadata": {},
   "outputs": [],
   "source": [
    "le1 = LabelEncoder()\n",
    "x[:,0] = le1.fit_transform(x[:,0])\n",
    "le2 = LabelEncoder()\n",
    "x[:,4] = le2.fit_transform(x[:,4])\n",
    "le3 = LabelEncoder()\n",
    "x[:,6] = le3.fit_transform(x[:,6])\n",
    "le4 = LabelEncoder()\n",
    "x[:,7] = le4.fit_transform(x[:,7])\n",
    "le5 = LabelEncoder()\n",
    "x[:,8] = le5.fit_transform(x[:,8])\n",
    "le6 = LabelEncoder()\n",
    "x[:,9] = le6.fit_transform(x[:,9])\n",
    "le7 = LabelEncoder()\n",
    "x[:,-1] = le7.fit_transform(x[:,-1])"
   ]
  },
  {
   "cell_type": "code",
   "execution_count": 73,
   "id": "36aa6541",
   "metadata": {},
   "outputs": [],
   "source": [
    "le8 = LabelEncoder()\n",
    "y[:,-1] = le8.fit_transform(y[:,-1])\n",
    "le9 = LabelEncoder()\n",
    "y[:,-2] = le9.fit_transform(y[:,-2])"
   ]
  },
  {
   "cell_type": "code",
   "execution_count": 74,
   "id": "cb93445a",
   "metadata": {},
   "outputs": [
    {
     "data": {
      "text/plain": [
       "array([ 1.32876628, -0.2213385 ,  1.32876628, ...,  0.44299212,\n",
       "        0.66443566, -1.10711265])"
      ]
     },
     "execution_count": 74,
     "metadata": {},
     "output_type": "execute_result"
    }
   ],
   "source": [
    "x[:, 8]"
   ]
  },
  {
   "cell_type": "code",
   "execution_count": 75,
   "id": "bd9a00fb",
   "metadata": {},
   "outputs": [
    {
     "name": "stdout",
     "output_type": "stream",
     "text": [
      "[[0 0]\n",
      " [0 0]\n",
      " [0 0]\n",
      " ...\n",
      " [0 0]\n",
      " [0 0]\n",
      " [0 0]]\n"
     ]
    }
   ],
   "source": [
    "print(y)"
   ]
  },
  {
   "cell_type": "markdown",
   "id": "1412c373",
   "metadata": {},
   "source": [
    "# Feature Scaling"
   ]
  },
  {
   "cell_type": "code",
   "execution_count": 76,
   "id": "7461b52f",
   "metadata": {},
   "outputs": [],
   "source": [
    "sc = StandardScaler()\n",
    "x = sc.fit_transform(x)"
   ]
  },
  {
   "cell_type": "code",
   "execution_count": 77,
   "id": "0d0fe41d",
   "metadata": {
    "scrolled": true
   },
   "outputs": [
    {
     "name": "stdout",
     "output_type": "stream",
     "text": [
      "[[-1.53166617  0.19132753 -0.04135977 ...  1.6340755  -1.67284386\n",
      "  -1.87957524]\n",
      " [-1.53166617 -0.75105231  0.26874452 ...  1.6340755  -1.55913977\n",
      "  -1.87957524]\n",
      " [-1.53166617  0.11279588  0.35331842 ...  1.6340755  -1.44543568\n",
      "  -1.87957524]\n",
      " ...\n",
      " [ 1.20928479 -1.06517892  0.52246622 ... -0.11659932  0.8286461\n",
      "   1.66697818]\n",
      " [ 1.20928479 -0.68822699  0.53656187 ... -0.11659932  0.94235019\n",
      "   1.66697818]\n",
      " [ 1.20928479  0.42692249 -0.45013361 ... -0.11659932  1.05605428\n",
      "   1.66697818]]\n"
     ]
    }
   ],
   "source": [
    "print(x)"
   ]
  },
  {
   "cell_type": "markdown",
   "id": "98afc8d5",
   "metadata": {},
   "source": [
    "# Splitting Data to Train and Test Sets"
   ]
  },
  {
   "cell_type": "code",
   "execution_count": 78,
   "id": "fd2c7898",
   "metadata": {},
   "outputs": [],
   "source": [
    "x_train, x_test, y_train, y_test = train_test_split(x,y,test_size=0.3, random_state = 42)"
   ]
  },
  {
   "cell_type": "code",
   "execution_count": 79,
   "id": "b3604e48",
   "metadata": {},
   "outputs": [
    {
     "data": {
      "text/plain": [
       "array([[-0.75857743,  1.57348463,  1.55144865, ..., -0.11659932,\n",
       "         0.26012566,  0.87885519],\n",
       "       [-1.1802622 ,  0.74104911,  1.15677045, ..., -0.99193674,\n",
       "        -0.64950706, -0.30332928],\n",
       "       [ 0.0145113 , -0.53116368, -0.32327277, ...,  0.75873809,\n",
       "         1.62457473,  1.27291668],\n",
       "       ...,\n",
       "       [ 0.29563447, -0.71963965, -0.21050757, ..., -0.99193674,\n",
       "         0.14642157, -0.30332928],\n",
       "       [-0.61801585, -0.53116368, -1.1831074 , ..., -0.11659932,\n",
       "         0.8286461 ,  0.4847937 ],\n",
       "       [ 0.50647685,  0.56827947,  2.45357023, ..., -0.99193674,\n",
       "        -0.42209888, -0.30332928]])"
      ]
     },
     "execution_count": 79,
     "metadata": {},
     "output_type": "execute_result"
    }
   ],
   "source": [
    "x_train"
   ]
  },
  {
   "cell_type": "code",
   "execution_count": 80,
   "id": "b5de3966",
   "metadata": {},
   "outputs": [],
   "source": [
    "x_train = np.asarray(x_train).astype('float32')\n",
    "y_train = np.asarray(y_train).astype('float32')"
   ]
  },
  {
   "cell_type": "code",
   "execution_count": 81,
   "id": "46fce1b7",
   "metadata": {},
   "outputs": [
    {
     "name": "stdout",
     "output_type": "stream",
     "text": [
      "Neumeric variables:\n",
      "['MinTemp', 'MaxTemp', 'Rainfall', 'Evaporation', 'Sunshine', 'WindGustSpeed', 'WindSpeed9am', 'WindSpeed3pm', 'Humidity9am', 'Humidity3pm', 'Pressure9am', 'Pressure3pm', 'Cloud9am', 'Cloud3pm', 'Temp9am', 'Temp3pm']\n"
     ]
    }
   ],
   "source": [
    "t = (data.dtypes == \"float64\")\n",
    "num_cols = list(t[t].index)\n",
    "\n",
    "print(\"Neumeric variables:\")\n",
    "print(num_cols)"
   ]
  },
  {
   "cell_type": "code",
   "execution_count": 82,
   "id": "cd00f9d2",
   "metadata": {
    "scrolled": true
   },
   "outputs": [
    {
     "name": "stdout",
     "output_type": "stream",
     "text": [
      "MinTemp 0\n",
      "MaxTemp 0\n",
      "Rainfall 0\n",
      "Evaporation 0\n",
      "Sunshine 0\n",
      "WindGustSpeed 0\n",
      "WindSpeed9am 0\n",
      "WindSpeed3pm 0\n",
      "Humidity9am 0\n",
      "Humidity3pm 0\n",
      "Pressure9am 0\n",
      "Pressure3pm 0\n",
      "Cloud9am 0\n",
      "Cloud3pm 0\n",
      "Temp9am 0\n",
      "Temp3pm 0\n"
     ]
    }
   ],
   "source": [
    "for i in num_cols:\n",
    "    print(i, data[i].isnull().sum())"
   ]
  },
  {
   "cell_type": "code",
   "execution_count": 83,
   "id": "b81cb16c",
   "metadata": {},
   "outputs": [
    {
     "name": "stdout",
     "output_type": "stream",
     "text": [
      "<class 'pandas.core.frame.DataFrame'>\n",
      "RangeIndex: 145460 entries, 0 to 145459\n",
      "Data columns (total 26 columns):\n",
      " #   Column         Non-Null Count   Dtype         \n",
      "---  ------         --------------   -----         \n",
      " 0   Date           145460 non-null  datetime64[ns]\n",
      " 1   Location       145460 non-null  object        \n",
      " 2   MinTemp        145460 non-null  float64       \n",
      " 3   MaxTemp        145460 non-null  float64       \n",
      " 4   Rainfall       145460 non-null  float64       \n",
      " 5   Evaporation    145460 non-null  float64       \n",
      " 6   Sunshine       145460 non-null  float64       \n",
      " 7   WindGustDir    135134 non-null  object        \n",
      " 8   WindGustSpeed  145460 non-null  float64       \n",
      " 9   WindDir9am     134894 non-null  object        \n",
      " 10  WindDir3pm     141232 non-null  object        \n",
      " 11  WindSpeed9am   145460 non-null  float64       \n",
      " 12  WindSpeed3pm   145460 non-null  float64       \n",
      " 13  Humidity9am    145460 non-null  float64       \n",
      " 14  Humidity3pm    145460 non-null  float64       \n",
      " 15  Pressure9am    145460 non-null  float64       \n",
      " 16  Pressure3pm    145460 non-null  float64       \n",
      " 17  Cloud9am       145460 non-null  float64       \n",
      " 18  Cloud3pm       145460 non-null  float64       \n",
      " 19  Temp9am        145460 non-null  float64       \n",
      " 20  Temp3pm        145460 non-null  float64       \n",
      " 21  RainToday      142199 non-null  object        \n",
      " 22  RainTomorrow   142193 non-null  object        \n",
      " 23  Month          145460 non-null  int64         \n",
      " 24  Day            145460 non-null  int64         \n",
      " 25  Year           145460 non-null  int64         \n",
      "dtypes: datetime64[ns](1), float64(16), int64(3), object(6)\n",
      "memory usage: 28.9+ MB\n"
     ]
    }
   ],
   "source": [
    "for i in num_cols:\n",
    "    data[i].fillna(data[i].median(), inplace=True)\n",
    "    \n",
    "data.info()"
   ]
  },
  {
   "cell_type": "code",
   "execution_count": 84,
   "id": "fb52ff67",
   "metadata": {},
   "outputs": [
    {
     "name": "stdout",
     "output_type": "stream",
     "text": [
      "MinTemp 0\n",
      "MaxTemp 0\n",
      "Rainfall 0\n",
      "Evaporation 0\n",
      "Sunshine 0\n",
      "WindGustSpeed 0\n",
      "WindSpeed9am 0\n",
      "WindSpeed3pm 0\n",
      "Humidity9am 0\n",
      "Humidity3pm 0\n",
      "Pressure9am 0\n",
      "Pressure3pm 0\n",
      "Cloud9am 0\n",
      "Cloud3pm 0\n",
      "Temp9am 0\n",
      "Temp3pm 0\n"
     ]
    }
   ],
   "source": [
    "for i in num_cols:\n",
    "    print(i, data[i].isnull().sum())"
   ]
  },
  {
   "cell_type": "code",
   "execution_count": 85,
   "id": "92a609ff",
   "metadata": {},
   "outputs": [],
   "source": [
    "features = data.drop(columns=['Pressure9am', 'Pressure3pm','Year'])"
   ]
  },
  {
   "cell_type": "code",
   "execution_count": 86,
   "id": "c29a7172",
   "metadata": {
    "scrolled": false
   },
   "outputs": [
    {
     "data": {
      "image/png": "[encoded data removed]",
      "text/plain": [
       "<Figure size 1440x720 with 1 Axes>"
      ]
     },
     "metadata": {
      "needs_background": "light"
     },
     "output_type": "display_data"
    }
   ],
   "source": [
    "colours = [\"#D0DBEE\", \"#C2C4E2\", \"#EED4E5\", \"#D1E6DC\", \"#BDE2E2\"]\n",
    "plt.figure(figsize=(20,10))\n",
    "sns.boxenplot(data = features,palette = colours)\n",
    "plt.xticks(rotation=90)\n",
    "plt.show()"
   ]
  },
  {
   "cell_type": "code",
   "execution_count": 87,
   "id": "3241f26b",
   "metadata": {
    "scrolled": false
   },
   "outputs": [
    {
     "data": {
      "text/plain": [
       "<AxesSubplot:xlabel='RainTomorrow', ylabel='count'>"
      ]
     },
     "execution_count": 87,
     "metadata": {},
     "output_type": "execute_result"
    },
    {
     "data": {
      "image/png": "[encoded data removed]",
      "text/plain": [
       "<Figure size 432x288 with 1 Axes>"
      ]
     },
     "metadata": {
      "needs_background": "light"
     },
     "output_type": "display_data"
    }
   ],
   "source": [
    "cols= [\"#cfe2f3\",\"#d9ead3\"]\n",
    "sns.countplot(x= data[\"RainTomorrow\"], palette= cols)"
   ]
  },
  {
   "cell_type": "markdown",
   "id": "a09bd78e",
   "metadata": {},
   "source": [
    "# Training Models"
   ]
  },
  {
   "cell_type": "code",
   "execution_count": 88,
   "id": "1a2b751c",
   "metadata": {},
   "outputs": [],
   "source": [
    "yes = data['RainTomorrow'].value_counts()['Yes']"
   ]
  },
  {
   "cell_type": "code",
   "execution_count": 89,
   "id": "1c67edfc",
   "metadata": {},
   "outputs": [],
   "source": [
    "no = data['RainTomorrow'].value_counts()['No']"
   ]
  },
  {
   "cell_type": "code",
   "execution_count": 90,
   "id": "7c0aa8df",
   "metadata": {},
   "outputs": [
    {
     "data": {
      "text/plain": [
       "110316"
      ]
     },
     "execution_count": 90,
     "metadata": {},
     "output_type": "execute_result"
    }
   ],
   "source": [
    "no"
   ]
  },
  {
   "cell_type": "code",
   "execution_count": 91,
   "id": "e0929cd9",
   "metadata": {
    "scrolled": true
   },
   "outputs": [
    {
     "name": "stdout",
     "output_type": "stream",
     "text": [
      "Epoch 1/30\n",
      "3133/3133 [==============================] - 3s 963us/step - loss: 0.4685 - accuracy: 0.7812 - val_loss: 0.3764 - val_accuracy: 0.7812\n",
      "Epoch 2/30\n",
      "3133/3133 [==============================] - 3s 939us/step - loss: 0.3989 - accuracy: 0.7812 - val_loss: 0.3555 - val_accuracy: 0.7812\n",
      "Epoch 3/30\n",
      "3133/3133 [==============================] - 3s 917us/step - loss: 0.3829 - accuracy: 0.8532 - val_loss: 0.3403 - val_accuracy: 0.8698\n",
      "Epoch 4/30\n",
      "3133/3133 [==============================] - 3s 911us/step - loss: 0.3708 - accuracy: 0.8678 - val_loss: 0.3309 - val_accuracy: 0.8749\n",
      "Epoch 5/30\n",
      "3133/3133 [==============================] - 3s 930us/step - loss: 0.3636 - accuracy: 0.8703 - val_loss: 0.3253 - val_accuracy: 0.8759\n",
      "Epoch 6/30\n",
      "3133/3133 [==============================] - 3s 915us/step - loss: 0.3589 - accuracy: 0.8701 - val_loss: 0.3212 - val_accuracy: 0.8767\n",
      "Epoch 7/30\n",
      "3133/3133 [==============================] - 3s 908us/step - loss: 0.3545 - accuracy: 0.8704 - val_loss: 0.3200 - val_accuracy: 0.8754\n",
      "Epoch 8/30\n",
      "3133/3133 [==============================] - 3s 915us/step - loss: 0.3523 - accuracy: 0.8698 - val_loss: 0.3199 - val_accuracy: 0.8767\n",
      "Epoch 9/30\n",
      "3133/3133 [==============================] - 3s 911us/step - loss: 0.3515 - accuracy: 0.8704 - val_loss: 0.3164 - val_accuracy: 0.8772\n",
      "Epoch 10/30\n",
      "3133/3133 [==============================] - 3s 919us/step - loss: 0.3491 - accuracy: 0.8708 - val_loss: 0.3154 - val_accuracy: 0.8773\n",
      "Epoch 11/30\n",
      "3133/3133 [==============================] - 3s 979us/step - loss: 0.3476 - accuracy: 0.8705 - val_loss: 0.3144 - val_accuracy: 0.8780\n",
      "Epoch 12/30\n",
      "3133/3133 [==============================] - 3s 967us/step - loss: 0.3480 - accuracy: 0.8704 - val_loss: 0.3144 - val_accuracy: 0.8769\n",
      "Epoch 13/30\n",
      "3133/3133 [==============================] - 3s 1ms/step - loss: 0.3470 - accuracy: 0.8700 - val_loss: 0.3142 - val_accuracy: 0.8778\n",
      "Epoch 14/30\n",
      "3133/3133 [==============================] - 3s 974us/step - loss: 0.3461 - accuracy: 0.8700 - val_loss: 0.3132 - val_accuracy: 0.8771\n",
      "Epoch 15/30\n",
      "3133/3133 [==============================] - 3s 1ms/step - loss: 0.3440 - accuracy: 0.8705 - val_loss: 0.3130 - val_accuracy: 0.8773\n",
      "Epoch 16/30\n",
      "3133/3133 [==============================] - 3s 1ms/step - loss: 0.3448 - accuracy: 0.8697 - val_loss: 0.3128 - val_accuracy: 0.8767\n",
      "Epoch 17/30\n",
      "3133/3133 [==============================] - 3s 985us/step - loss: 0.3437 - accuracy: 0.8699 - val_loss: 0.3126 - val_accuracy: 0.8767\n",
      "Epoch 18/30\n",
      "3133/3133 [==============================] - 3s 1ms/step - loss: 0.3438 - accuracy: 0.8701 - val_loss: 0.3137 - val_accuracy: 0.8769\n",
      "Epoch 19/30\n",
      "3133/3133 [==============================] - 3s 996us/step - loss: 0.3432 - accuracy: 0.8704 - val_loss: 0.3122 - val_accuracy: 0.8764\n",
      "Epoch 20/30\n",
      "3133/3133 [==============================] - 3s 908us/step - loss: 0.3435 - accuracy: 0.8698 - val_loss: 0.3141 - val_accuracy: 0.8764\n",
      "Epoch 21/30\n",
      "3133/3133 [==============================] - 3s 906us/step - loss: 0.3424 - accuracy: 0.8701 - val_loss: 0.3115 - val_accuracy: 0.8772\n",
      "Epoch 22/30\n",
      "3133/3133 [==============================] - 3s 983us/step - loss: 0.3416 - accuracy: 0.8704 - val_loss: 0.3124 - val_accuracy: 0.8763\n",
      "Epoch 23/30\n",
      "3133/3133 [==============================] - 3s 935us/step - loss: 0.3425 - accuracy: 0.8700 - val_loss: 0.3113 - val_accuracy: 0.8768\n",
      "Epoch 24/30\n",
      "3133/3133 [==============================] - 3s 900us/step - loss: 0.3422 - accuracy: 0.8698 - val_loss: 0.3116 - val_accuracy: 0.8760\n",
      "Epoch 25/30\n",
      "3133/3133 [==============================] - 3s 1ms/step - loss: 0.3410 - accuracy: 0.8707 - val_loss: 0.3118 - val_accuracy: 0.8762\n",
      "Epoch 26/30\n",
      "3133/3133 [==============================] - 3s 1ms/step - loss: 0.3423 - accuracy: 0.8700 - val_loss: 0.3111 - val_accuracy: 0.8759\n",
      "Epoch 27/30\n",
      "3133/3133 [==============================] - 4s 1ms/step - loss: 0.3403 - accuracy: 0.8704 - val_loss: 0.3118 - val_accuracy: 0.8757\n",
      "Epoch 28/30\n",
      "3133/3133 [==============================] - 4s 1ms/step - loss: 0.3409 - accuracy: 0.8703 - val_loss: 0.3119 - val_accuracy: 0.8759\n",
      "Epoch 29/30\n",
      "3133/3133 [==============================] - 4s 1ms/step - loss: 0.3407 - accuracy: 0.8699 - val_loss: 0.3117 - val_accuracy: 0.8754\n",
      "Epoch 30/30\n",
      "3133/3133 [==============================] - 4s 1ms/step - loss: 0.3399 - accuracy: 0.8702 - val_loss: 0.3108 - val_accuracy: 0.8758\n"
     ]
    }
   ],
   "source": [
    "#Early stopping\n",
    "early_stopping = EarlyStopping(\n",
    "    min_delta=0.001, # minimium amount of change to count as an improvement\n",
    "    patience=20, # how many epochs to wait before stopping\n",
    "    restore_best_weights=True,\n",
    ")\n",
    "\n",
    "# Initialising the NN\n",
    "model = Sequential()\n",
    "\n",
    "# layers\n",
    "\n",
    "model.add(Dense(units = 32, kernel_initializer = 'uniform', activation = 'relu', input_dim = 23))\n",
    "\n",
    "model.add(Dense(units = 32, kernel_initializer = 'uniform', activation = 'relu'))\n",
    "model.add(Dense(units = 16, kernel_initializer = 'uniform', activation = 'relu'))\n",
    "model.add(Dropout(0.5))\n",
    "\n",
    "model.add(Dense(units = 8, kernel_initializer = 'uniform', activation = 'relu'))\n",
    "model.add(Dropout(0.5))\n",
    "\n",
    "model.add(Dense(units = 1, kernel_initializer = 'uniform', activation = 'sigmoid'))\n",
    "\n",
    "model.add(Flatten())\n",
    "\n",
    "opt = Adam(learning_rate=0.00009)\n",
    "model.compile(optimizer = opt, loss = 'binary_crossentropy', metrics = ['accuracy'])\n",
    "\n",
    "# Train the ANN\n",
    "history = model.fit(x_train, y_train, batch_size = 26, epochs = 30, callbacks=[early_stopping], validation_split=0.2)"
   ]
  },
  {
   "cell_type": "code",
   "execution_count": 93,
   "id": "9b591f19",
   "metadata": {},
   "outputs": [
    {
     "data": {
      "image/png": "[encoded data removed]",
      "text/plain": [
       "<PIL.Image.Image image mode=RGBA size=257x27 at 0x1E198D1FEE0>"
      ]
     },
     "execution_count": 93,
     "metadata": {},
     "output_type": "execute_result"
    }
   ],
   "source": [
    "vs.layered_view(model)"
   ]
  },
  {
   "cell_type": "code",
   "execution_count": 94,
   "id": "9f86cec7",
   "metadata": {},
   "outputs": [
    {
     "data": {
      "text/plain": [
       "array([[0.62964094],\n",
       "       [0.00216795],\n",
       "       [0.21068755],\n",
       "       ...,\n",
       "       [0.62964094],\n",
       "       [0.00521091],\n",
       "       [0.54348993]], dtype=float32)"
      ]
     },
     "execution_count": 94,
     "metadata": {},
     "output_type": "execute_result"
    }
   ],
   "source": [
    "result"
   ]
  },
  {
   "cell_type": "code",
   "execution_count": 95,
   "id": "0bb7a545",
   "metadata": {},
   "outputs": [
    {
     "data": {
      "image/png": "[encoded data removed]",
      "text/plain": [
       "<Figure size 432x288 with 1 Axes>"
      ]
     },
     "metadata": {
      "needs_background": "light"
     },
     "output_type": "display_data"
    }
   ],
   "source": [
    "history_df = pd.DataFrame(history.history)\n",
    "\n",
    "plt.plot(history_df.loc[:, ['loss']], label='Training loss')\n",
    "plt.plot(history_df.loc[:, ['val_loss']], label='Validation loss')\n",
    "plt.title('Training and Validation loss')\n",
    "plt.xlabel('Epochs')\n",
    "plt.ylabel('Loss')\n",
    "plt.legend(loc=\"best\")\n",
    "\n",
    "plt.show()"
   ]
  },
  {
   "cell_type": "code",
   "execution_count": 96,
   "id": "02234814",
   "metadata": {},
   "outputs": [
    {
     "data": {
      "image/png": "[encoded data removed]",
      "text/plain": [
       "<Figure size 432x288 with 1 Axes>"
      ]
     },
     "metadata": {
      "needs_background": "light"
     },
     "output_type": "display_data"
    }
   ],
   "source": [
    "history_df = pd.DataFrame(history.history)\n",
    "\n",
    "plt.plot(history_df.loc[:, ['accuracy']], label='Training accuracy')\n",
    "plt.plot(history_df.loc[:, ['val_accuracy']], label='Validation accuracy')\n",
    "\n",
    "plt.title('Training and Validation accuracy')\n",
    "plt.xlabel('Epochs')\n",
    "plt.ylabel('Accuracy')\n",
    "plt.legend()\n",
    "plt.show()"
   ]
  },
  {
   "cell_type": "code",
   "execution_count": null,
   "id": "ac443a3b",
   "metadata": {},
   "outputs": [],
   "source": [
    "print(classification_report(y_test, y_predicted))"
   ]
  }
 ],
 "metadata": {
  "kernelspec": {
   "display_name": "Python 3 (ipykernel)",
   "language": "python",
   "name": "python3"
  },
  "language_info": {
   "codemirror_mode": {
    "name": "ipython",
    "version": 3
   },
   "file_extension": ".py",
   "mimetype": "text/x-python",
   "name": "python",
   "nbconvert_exporter": "python",
   "pygments_lexer": "ipython3",
   "version": "3.9.7"
  }
 },
 "nbformat": 4,
 "nbformat_minor": 5
}
